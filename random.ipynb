{
  "nbformat": 4,
  "nbformat_minor": 0,
  "metadata": {
    "colab": {
      "name": "tempo.ipynb",
      "provenance": [],
      "include_colab_link": true
    },
    "kernelspec": {
      "name": "python3",
      "display_name": "Python 3"
    }
  },
  "cells": [
    {
      "cell_type": "markdown",
      "metadata": {
        "id": "view-in-github",
        "colab_type": "text"
      },
      "source": [
        "<a href=\"https://colab.research.google.com/github/aliakbarbadri/mountain-car-v0/blob/master/random.ipynb\" target=\"_parent\"><img src=\"https://colab.research.google.com/assets/colab-badge.svg\" alt=\"Open In Colab\"/></a>"
      ]
    },
    {
      "cell_type": "markdown",
      "metadata": {
        "id": "euDTwJvAiei5",
        "colab_type": "text"
      },
      "source": [
        "# Install the packages and Show the video"
      ]
    },
    {
      "cell_type": "code",
      "metadata": {
        "id": "zd4PJOitWg_g",
        "colab_type": "code",
        "colab": {
          "base_uri": "https://localhost:8080/",
          "height": 357
        },
        "outputId": "3b298692-76a2-4cac-94e4-7f3b2e0d6934"
      },
      "source": [
        "!apt-get install python-opengl -y\n",
        "!apt install xvfb -y\n",
        "!pip install pyvirtualdisplay\n",
        "!pip install pyglet"
      ],
      "execution_count": null,
      "outputs": [
        {
          "output_type": "stream",
          "text": [
            "Reading package lists... Done\n",
            "Building dependency tree       \n",
            "Reading state information... Done\n",
            "python-opengl is already the newest version (3.1.0+dfsg-1).\n",
            "The following package was automatically installed and is no longer required:\n",
            "  libnvidia-common-440\n",
            "Use 'apt autoremove' to remove it.\n",
            "0 upgraded, 0 newly installed, 0 to remove and 35 not upgraded.\n",
            "Reading package lists... Done\n",
            "Building dependency tree       \n",
            "Reading state information... Done\n",
            "xvfb is already the newest version (2:1.19.6-1ubuntu4.4).\n",
            "The following package was automatically installed and is no longer required:\n",
            "  libnvidia-common-440\n",
            "Use 'apt autoremove' to remove it.\n",
            "0 upgraded, 0 newly installed, 0 to remove and 35 not upgraded.\n",
            "Requirement already satisfied: pyvirtualdisplay in /usr/local/lib/python3.6/dist-packages (1.3.2)\n",
            "Requirement already satisfied: EasyProcess in /usr/local/lib/python3.6/dist-packages (from pyvirtualdisplay) (0.3)\n",
            "Requirement already satisfied: pyglet in /usr/local/lib/python3.6/dist-packages (1.5.0)\n",
            "Requirement already satisfied: future in /usr/local/lib/python3.6/dist-packages (from pyglet) (0.16.0)\n"
          ],
          "name": "stdout"
        }
      ]
    },
    {
      "cell_type": "code",
      "metadata": {
        "id": "03D8mt6rXUpR",
        "colab_type": "code",
        "colab": {}
      },
      "source": [
        "import matplotlib.animation\n",
        "from IPython.display import HTML\n",
        "from IPython.display import display as ipy_disp\n",
        "import tensorflow as tf\n",
        "from tqdm.auto import tqdm\n",
        "import numpy as np\n",
        "import matplotlib.pyplot as plt\n",
        "import matplotlib as mpl\n",
        "import gym\n",
        "import random"
      ],
      "execution_count": null,
      "outputs": []
    },
    {
      "cell_type": "code",
      "metadata": {
        "id": "oJBeWghSFNfj",
        "colab_type": "code",
        "colab": {}
      },
      "source": [
        "# %matplotlib inline\n",
        "\n",
        "def get_screen():\n",
        "  global display\n",
        "  try:\n",
        "    display.stop()\n",
        "  except:\n",
        "    pass\n",
        "  from pyvirtualdisplay import Display\n",
        "  display = Display(visible=0, size=(1400, 900))\n",
        "  display.start()\n",
        "\n",
        "get_screen()"
      ],
      "execution_count": null,
      "outputs": []
    },
    {
      "cell_type": "code",
      "metadata": {
        "id": "A5vFkkghis4C",
        "colab_type": "code",
        "colab": {}
      },
      "source": [
        "import os\n",
        "\n",
        "# Where to save the figures\n",
        "PROJECT_ROOT_DIR = \".\"\n",
        "HW_ID = \"rl\"\n",
        "IMAGES_PATH = os.path.join(PROJECT_ROOT_DIR, \"images\", HW_ID)\n",
        "os.makedirs(IMAGES_PATH, exist_ok=True)\n",
        "\n",
        "def save_fig(fig_id, tight_layout=True, fig_extension=\"png\", resolution=300):\n",
        "    path = os.path.join(IMAGES_PATH, fig_id + \".\" + fig_extension)\n",
        "    print(\"Saving figure\", fig_id)\n",
        "    if tight_layout:\n",
        "        plt.tight_layout()\n",
        "    plt.savefig(path, format=fig_extension, dpi=resolution)"
      ],
      "execution_count": null,
      "outputs": []
    },
    {
      "cell_type": "code",
      "metadata": {
        "id": "GPRCLCqknEIu",
        "colab_type": "code",
        "colab": {}
      },
      "source": [
        "def plot_environment(env, figsize=(5,4)):\n",
        "    plt.figure(figsize=figsize)\n",
        "    img = env.render(mode=\"rgb_array\")\n",
        "    plt.imshow(img)\n",
        "    plt.axis(\"off\")\n",
        "    return img"
      ],
      "execution_count": null,
      "outputs": []
    },
    {
      "cell_type": "code",
      "metadata": {
        "id": "nqBen-78ogBl",
        "colab_type": "code",
        "colab": {}
      },
      "source": [
        "import matplotlib.animation as animation\n",
        "mpl.rc('animation', html='jshtml')\n",
        "def update_scene(num, frames, patch):\n",
        "    patch.set_data(frames[num])\n",
        "    return patch,\n",
        "\n",
        "def plot_animation(frames, repeat=False, interval=40):\n",
        "    fig = plt.figure()\n",
        "    patch = plt.imshow(frames[0])\n",
        "    plt.axis('off')\n",
        "    anim = animation.FuncAnimation(\n",
        "        fig, update_scene, fargs=(frames, patch),\n",
        "        frames=len(frames), repeat=repeat, interval=interval)\n",
        "    plt.close()\n",
        "    return anim"
      ],
      "execution_count": null,
      "outputs": []
    },
    {
      "cell_type": "markdown",
      "metadata": {
        "id": "NH_yy0RmsHzp",
        "colab_type": "text"
      },
      "source": [
        "# Setup the Env"
      ]
    },
    {
      "cell_type": "code",
      "metadata": {
        "id": "y20rwukDCiUy",
        "colab_type": "code",
        "colab": {}
      },
      "source": [
        "env = gym.make('MountainCar-v0')"
      ],
      "execution_count": null,
      "outputs": []
    },
    {
      "cell_type": "code",
      "metadata": {
        "id": "evtWNfmaXpry",
        "colab_type": "code",
        "colab": {
          "base_uri": "https://localhost:8080/",
          "height": 34
        },
        "outputId": "6e9a64c8-9b64-45c6-c2b1-b88ebea76b91"
      },
      "source": [
        "env.seed(42)\n",
        "obs = env.reset()\n",
        "obs\n",
        "# obs = array([position, velocity])\n",
        "# position = [-1.2 , 0.6]\n",
        "# velocity = [-0.07,\t0.07]"
      ],
      "execution_count": null,
      "outputs": [
        {
          "output_type": "execute_result",
          "data": {
            "text/plain": [
              "array([-0.52517132,  0.        ])"
            ]
          },
          "metadata": {
            "tags": []
          },
          "execution_count": 8
        }
      ]
    },
    {
      "cell_type": "code",
      "metadata": {
        "id": "bihvSYRqnIk8",
        "colab_type": "code",
        "colab": {
          "base_uri": "https://localhost:8080/",
          "height": 34
        },
        "outputId": "f7da3bb3-d1ae-4b5a-d906-e804eebbb2cd"
      },
      "source": [
        "env.action_space\n",
        "# 0\tpush left\n",
        "# 1\tno push\n",
        "# 2\tpush right"
      ],
      "execution_count": null,
      "outputs": [
        {
          "output_type": "execute_result",
          "data": {
            "text/plain": [
              "Discrete(3)"
            ]
          },
          "metadata": {
            "tags": []
          },
          "execution_count": 9
        }
      ]
    },
    {
      "cell_type": "code",
      "metadata": {
        "id": "01yUpaXdnWed",
        "colab_type": "code",
        "colab": {
          "base_uri": "https://localhost:8080/",
          "height": 34
        },
        "outputId": "879d8d5c-682c-4b08-e183-0f2cffa893f8"
      },
      "source": [
        "action = 0\n",
        "obs, reward, done, info = env.step(action)\n",
        "obs, reward, done, info"
      ],
      "execution_count": null,
      "outputs": [
        {
          "output_type": "execute_result",
          "data": {
            "text/plain": [
              "(array([-0.52615953, -0.00098821]), -1.0, False, {})"
            ]
          },
          "metadata": {
            "tags": []
          },
          "execution_count": 10
        }
      ]
    },
    {
      "cell_type": "code",
      "metadata": {
        "id": "zTAhNMOUmidM",
        "colab_type": "code",
        "colab": {
          "base_uri": "https://localhost:8080/",
          "height": 34
        },
        "outputId": "3c3c0038-d9ef-4a9e-bc01-ca93db6431ba"
      },
      "source": [
        "img = env.render(mode=\"rgb_array\")\n",
        "img.shape"
      ],
      "execution_count": null,
      "outputs": [
        {
          "output_type": "execute_result",
          "data": {
            "text/plain": [
              "(400, 600, 3)"
            ]
          },
          "metadata": {
            "tags": []
          },
          "execution_count": 11
        }
      ]
    },
    {
      "cell_type": "code",
      "metadata": {
        "id": "0S-JcwMlnGSb",
        "colab_type": "code",
        "colab": {
          "base_uri": "https://localhost:8080/",
          "height": 217
        },
        "outputId": "a13fdf54-345e-4ac9-928c-a117f283ab01"
      },
      "source": [
        "plot_environment(env)\n",
        "plt.show()"
      ],
      "execution_count": null,
      "outputs": [
        {
          "output_type": "display_data",
          "data": {
            "image/png": "[encoded data removed]",
            "text/plain": [
              "<Figure size 360x288 with 1 Axes>"
            ]
          },
          "metadata": {
            "tags": [],
            "needs_background": "light"
          }
        }
      ]
    },
    {
      "cell_type": "code",
      "metadata": {
        "id": "FV47ljyengFk",
        "colab_type": "code",
        "colab": {
          "base_uri": "https://localhost:8080/",
          "height": 217
        },
        "outputId": "22419c95-8e48-491b-88b0-bda378e94f7d"
      },
      "source": [
        "plot_environment(env)\n",
        "plt.show()"
      ],
      "execution_count": null,
      "outputs": [
        {
          "output_type": "display_data",
          "data": {
            "image/png": "[encoded data removed]",
            "text/plain": [
              "<Figure size 360x288 with 1 Axes>"
            ]
          },
          "metadata": {
            "tags": [],
            "needs_background": "light"
          }
        }
      ]
    },
    {
      "cell_type": "markdown",
      "metadata": {
        "id": "HGt7RMt0dZd7",
        "colab_type": "text"
      },
      "source": [
        "# Random Actions"
      ]
    },
    {
      "cell_type": "code",
      "metadata": {
        "id": "jDtE7aNFnyYV",
        "colab_type": "code",
        "colab": {}
      },
      "source": [
        "env.seed(42)\n",
        "\n",
        "random_frames = []\n",
        "random_rawards = []\n",
        "obs = env.reset()\n",
        "for episode in range(200):\n",
        "  frames = []\n",
        "  for step in range(200):\n",
        "      img = env.render(mode=\"rgb_array\")\n",
        "      frames.append(img)\n",
        "      action = env.action_space.sample()\n",
        "      obs, reward, done, info = env.step(action)\n",
        "      if done:\n",
        "          break\n",
        "  random_frames.append(frames)\n",
        "  random_rawards.append(step)"
      ],
      "execution_count": null,
      "outputs": []
    },
    {
      "cell_type": "code",
      "metadata": {
        "id": "B0p6PRNOont9",
        "colab_type": "code",
        "colab": {
          "base_uri": "https://localhost:8080/",
          "height": 385
        },
        "outputId": "45003ef0-8b27-4b87-f853-596cd8411efe"
      },
      "source": [
        "plot_animation(random_frames[-1])"
      ],
      "execution_count": null,
      "outputs": [
        {
          "output_type": "execute_result",
          "data": {
            "text/html": [
              "\n",
              "<link rel=\"stylesheet\"\n",
              "href=\"https://maxcdn.bootstrapcdn.com/font-awesome/4.4.0/\n",
              "css/font-awesome.min.css\">\n",
              "<script language=\"javascript\">\n",
              "  function isInternetExplorer() {\n",
              "    ua = navigator.userAgent;\n",
              "    /* MSIE used to detect old browsers and Trident used to newer ones*/\n",
              "    return ua.indexOf(\"MSIE \") > -1 || ua.indexOf(\"Trident/\") > -1;\n",
              "  }\n",
              "\n",
              "  /* Define the Animation class */\n",
              "  function Animation(frames, img_id, slider_id, interval, loop_select_id){\n",
              "    this.img_id = img_id;\n",
              "    this.slider_id = slider_id;\n",
              "    this.loop_select_id = loop_select_id;\n",
              "    this.interval = interval;\n",
              "    this.current_frame = 0;\n",
              "    this.direction = 0;\n",
              "    this.timer = null;\n",
              "    this.frames = new Array(frames.length);\n",
              "\n",
              "    for (var i=0; i<frames.length; i++)\n",
              "    {\n",
              "     this.frames[i] = new Image();\n",
              "     this.frames[i].src = frames[i];\n",
              "    }\n",
              "    var slider = document.getElementById(this.slider_id);\n",
              "    slider.max = this.frames.length - 1;\n",
              "    if (isInternetExplorer()) {\n",
              "        // switch from oninput to onchange because IE <= 11 does not conform\n",
              "        // with W3C specification. It ignores oninput and onchange behaves\n",
              "        // like oninput. In contrast, Mircosoft Edge behaves correctly.\n",
              "        slider.setAttribute('onchange', slider.getAttribute('oninput'));\n",
              "        slider.setAttribute('oninput', null);\n",
              "    }\n",
              "    this.set_frame(this.current_frame);\n",
              "  }\n",
              "\n",
              "  Animation.prototype.get_loop_state = function(){\n",
              "    var button_group = document[this.loop_select_id].state;\n",
              "    for (var i = 0; i < button_group.length; i++) {\n",
              "        var button = button_group[i];\n",
              "        if (button.checked) {\n",
              "            return button.value;\n",
              "        }\n",
              "    }\n",
              "    return undefined;\n",
              "  }\n",
              "\n",
              "  Animation.prototype.set_frame = function(frame){\n",
              "    this.current_frame = frame;\n",
              "    document.getElementById(this.img_id).src =\n",
              "            this.frames[this.current_frame].src;\n",
              "    document.getElementById(this.slider_id).value = this.current_frame;\n",
              "  }\n",
              "\n",
              "  Animation.prototype.next_frame = function()\n",
              "  {\n",
              "    this.set_frame(Math.min(this.frames.length - 1, this.current_frame + 1));\n",
              "  }\n",
              "\n",
              "  Animation.prototype.previous_frame = function()\n",
              "  {\n",
              "    this.set_frame(Math.max(0, this.current_frame - 1));\n",
              "  }\n",
              "\n",
              "  Animation.prototype.first_frame = function()\n",
              "  {\n",
              "    this.set_frame(0);\n",
              "  }\n",
              "\n",
              "  Animation.prototype.last_frame = function()\n",
              "  {\n",
              "    this.set_frame(this.frames.length - 1);\n",
              "  }\n",
              "\n",
              "  Animation.prototype.slower = function()\n",
              "  {\n",
              "    this.interval /= 0.7;\n",
              "    if(this.direction > 0){this.play_animation();}\n",
              "    else if(this.direction < 0){this.reverse_animation();}\n",
              "  }\n",
              "\n",
              "  Animation.prototype.faster = function()\n",
              "  {\n",
              "    this.interval *= 0.7;\n",
              "    if(this.direction > 0){this.play_animation();}\n",
              "    else if(this.direction < 0){this.reverse_animation();}\n",
              "  }\n",
              "\n",
              "  Animation.prototype.anim_step_forward = function()\n",
              "  {\n",
              "    this.current_frame += 1;\n",
              "    if(this.current_frame < this.frames.length){\n",
              "      this.set_frame(this.current_frame);\n",
              "    }else{\n",
              "      var loop_state = this.get_loop_state();\n",
              "      if(loop_state == \"loop\"){\n",
              "        this.first_frame();\n",
              "      }else if(loop_state == \"reflect\"){\n",
              "        this.last_frame();\n",
              "        this.reverse_animation();\n",
              "      }else{\n",
              "        this.pause_animation();\n",
              "        this.last_frame();\n",
              "      }\n",
              "    }\n",
              "  }\n",
              "\n",
              "  Animation.prototype.anim_step_reverse = function()\n",
              "  {\n",
              "    this.current_frame -= 1;\n",
              "    if(this.current_frame >= 0){\n",
              "      this.set_frame(this.current_frame);\n",
              "    }else{\n",
              "      var loop_state = this.get_loop_state();\n",
              "      if(loop_state == \"loop\"){\n",
              "        this.last_frame();\n",
              "      }else if(loop_state == \"reflect\"){\n",
              "        this.first_frame();\n",
              "        this.play_animation();\n",
              "      }else{\n",
              "        this.pause_animation();\n",
              "        this.first_frame();\n",
              "      }\n",
              "    }\n",
              "  }\n",
              "\n",
              "  Animation.prototype.pause_animation = function()\n",
              "  {\n",
              "    this.direction = 0;\n",
              "    if (this.timer){\n",
              "      clearInterval(this.timer);\n",
              "      this.timer = null;\n",
              "    }\n",
              "  }\n",
              "\n",
              "  Animation.prototype.play_animation = function()\n",
              "  {\n",
              "    this.pause_animation();\n",
              "    this.direction = 1;\n",
              "    var t = this;\n",
              "    if (!this.timer) this.timer = setInterval(function() {\n",
              "        t.anim_step_forward();\n",
              "    }, this.interval);\n",
              "  }\n",
              "\n",
              "  Animation.prototype.reverse_animation = function()\n",
              "  {\n",
              "    this.pause_animation();\n",
              "    this.direction = -1;\n",
              "    var t = this;\n",
              "    if (!this.timer) this.timer = setInterval(function() {\n",
              "        t.anim_step_reverse();\n",
              "    }, this.interval);\n",
              "  }\n",
              "</script>\n",
              "\n",
              "<style>\n",
              ".animation {\n",
              "    display: inline-block;\n",
              "    text-align: center;\n",
              "}\n",
              "input[type=range].anim-slider {\n",
              "    width: 374px;\n",
              "    margin-left: auto;\n",
              "    margin-right: auto;\n",
              "}\n",
              ".anim-buttons {\n",
              "    margin: 8px 0px;\n",
              "}\n",
              ".anim-buttons button {\n",
              "    padding: 0;\n",
              "    width: 36px;\n",
              "}\n",
              ".anim-state label {\n",
              "    margin-right: 8px;\n",
              "}\n",
              ".anim-state input {\n",
              "    margin: 0;\n",
              "    vertical-align: middle;\n",
              "}\n",
              "</style>\n",
              "\n",
              "<div class=\"animation\">\n",
              "  <img id=\"_anim_img03706849f0b649909816c84e5775155e\">\n",
              "  <div class=\"anim-controls\">\n",
              "    <input id=\"_anim_slider03706849f0b649909816c84e5775155e\" type=\"range\" class=\"anim-slider\"\n",
              "           name=\"points\" min=\"0\" max=\"1\" step=\"1\" value=\"0\"\n",
              "           oninput=\"anim03706849f0b649909816c84e5775155e.set_frame(parseInt(this.value));\"></input>\n",
              "    <div class=\"anim-buttons\">\n",
              "      <button onclick=\"anim03706849f0b649909816c84e5775155e.slower()\"><i class=\"fa fa-minus\"></i></button>\n",
              "      <button onclick=\"anim03706849f0b649909816c84e5775155e.first_frame()\"><i class=\"fa fa-fast-backward\">\n",
              "          </i></button>\n",
              "      <button onclick=\"anim03706849f0b649909816c84e5775155e.previous_frame()\">\n",
              "          <i class=\"fa fa-step-backward\"></i></button>\n",
              "      <button onclick=\"anim03706849f0b649909816c84e5775155e.reverse_animation()\">\n",
              "          <i class=\"fa fa-play fa-flip-horizontal\"></i></button>\n",
              "      <button onclick=\"anim03706849f0b649909816c84e5775155e.pause_animation()\"><i class=\"fa fa-pause\">\n",
              "          </i></button>\n",
              "      <button onclick=\"anim03706849f0b649909816c84e5775155e.play_animation()\"><i class=\"fa fa-play\"></i>\n",
              "          </button>\n",
              "      <button onclick=\"anim03706849f0b649909816c84e5775155e.next_frame()\"><i class=\"fa fa-step-forward\">\n",
              "          </i></button>\n",
              "      <button onclick=\"anim03706849f0b649909816c84e5775155e.last_frame()\"><i class=\"fa fa-fast-forward\">\n",
              "          </i></button>\n",
              "      <button onclick=\"anim03706849f0b649909816c84e5775155e.faster()\"><i class=\"fa fa-plus\"></i></button>\n",
              "    </div>\n",
              "    <form action=\"#n\" name=\"_anim_loop_select03706849f0b649909816c84e5775155e\" class=\"anim-state\">\n",
              "      <input type=\"radio\" name=\"state\" value=\"once\" id=\"_anim_radio1_03706849f0b649909816c84e5775155e\"\n",
              "             checked>\n",
              "      <label for=\"_anim_radio1_03706849f0b649909816c84e5775155e\">Once</label>\n",
              "      <input type=\"radio\" name=\"state\" value=\"loop\" id=\"_anim_radio2_03706849f0b649909816c84e5775155e\"\n",
              "             >\n",
              "      <label for=\"_anim_radio2_03706849f0b649909816c84e5775155e\">Loop</label>\n",
              "      <input type=\"radio\" name=\"state\" value=\"reflect\" id=\"_anim_radio3_03706849f0b649909816c84e5775155e\"\n",
              "             >\n",
              "      <label for=\"_anim_radio3_03706849f0b649909816c84e5775155e\">Reflect</label>\n",
              "    </form>\n",
              "  </div>\n",
              "</div>\n",
              "\n",
              "\n",
              "<script language=\"javascript\">\n",
              "  /* Instantiate the Animation class. */\n",
              "  /* The IDs given should match those used in the template above. */\n",
              "  (function() {\n",
              "    var img_id = \"_anim_img03706849f0b649909816c84e5775155e\";\n",
              "    var slider_id = \"_anim_slider03706849f0b649909816c84e5775155e\";\n",
              "    var loop_select_id = \"_anim_loop_select03706849f0b649909816c84e5775155e\";\n",
              "    var frames = new Array(1);\n",
              "    \n",
              "  frames[0] = \"data:image/png;base64,iVBORw0KGgoAAAANSUhEUgAAAbAAAAEgCAYAAADVKCZpAAAABHNCSVQICAgIfAhkiAAAAAlwSFlz\\\n",
              "AAALEgAACxIB0t1+/AAAADh0RVh0U29mdHdhcmUAbWF0cGxvdGxpYiB2ZXJzaW9uMy4yLjIsIGh0\\\n",
              "dHA6Ly9tYXRwbG90bGliLm9yZy+WH4yJAAAgAElEQVR4nO3de1zN9+MH8Nfn1KncaoolJpZ7i8hl\\\n",
              "xdwZ5TZdKFIuI8ltNLevbF/MkJhbuWyWQtHFNZeHuRW5bbk3k61sFKPiSEWd8/n9sa9+trlF9Tmf\\\n",
              "c17P/+jsnFdZ53Xel8/7I4iiKIKIiEhmFFIHICIiehMsMCIikiUWGBERyRILjIiIZIkFRkREssQC\\\n",
              "IyIiWWKBERGRLLHAiIhIllhgREQkSywwIiKSJRYYERHJEguMiIhkiQVGRESyxAIjIiJZYoEREZEs\\\n",
              "scCIiEiWWGBERCRLLDAiIpIlFhgREckSC4yIiGSJBUZERLLEAiMiIlligRERkSyxwIiISJZYYERE\\\n",
              "JEssMCIikiUWGBERyRILjIiIZIkFRkREssQCIyIiWWKBERGRLLHAiIhIllhgREQkSywwIiKSJRYY\\\n",
              "ERHJEguMiIhkiQVGRESyxAIjIiJZYoEREZEsscCIiEiWWGBERCRLLDAiIpIlFhgRkcxs2rQe5859\\\n",
              "DJXqIB49+gkFBakQRVHqWBXOUOoARERUOunp12FldRAazUEAgIHBOzA17QUAqFq1A8zM+gAAlMpa\\\n",
              "UCgqS5azvLHAiIhkTq2+j9zcrQCA3NwY3Lw5FQBgZtYPRkZ1oVBUgpVVkM6VGQuMiEinCHi6OiQI\\\n",
              "SgiCEQTBSNpI5YQFRkQkawIMDN4pmTb8awrRBQBgaFgTCkUlKcOVKxYYEZHMCIIhTE17oHHjWTAw\\\n",
              "MIdCYQJj48YQBEHqaBWKBUZEJDMKRRXY2ESjWjULqaNIitvoiYhIllhgREQkSywwIiKSJRYYERHJ\\\n",
              "EguMiIhkiQVGRESyxAIjIiJZYoEREZEsscCIiEiWWGBERCRLLDAiIpIlFhgREckSC4yIiGSJBUZE\\\n",
              "RLLEAiMiIlligRERkSyxwIiISJZYYEREJEssMCIikiVDqQMQEdGL5efnIy8vDwBw584drF27Fj/+\\\n",
              "+CN+/fVXmJiYvPK/HzhwIFq0aAEAMDExgampabnmrUiCKIqi1CGIiOgvarUajx8/xoEDB3DlyhX8\\\n",
              "9NNP+OGHHwAAGo0G+fn5pXo+ExMTGBr+NVaxtbVFv3798O6778Lb2xsAULly5bL9BioQC4yISGKi\\\n",
              "KCI1NRWnTp1CRkYGNmzYgNzcXBQUFAAABEEAAJibm6N///4lf34diYmJ+PXXX//2WkqlEjVr1gQA\\\n",
              "3Lp1qwy/k4rFKUQiIok8fPgQx44dw/79+xEXF4fbt2+XfM3e3h7vvfceOnTogP79+wMAjI2N0aBB\\\n",
              "g1IV2M2bN/HgwQMAwPnz5xEVFQWVSoWkpKSy/WYkwBEYEVEFEkUR58+fR2pqKpYuXYqUlBQAgKWl\\\n",
              "Jd5//33Y2NjAz88PTZo0gaWlZblkyMvLK3ndTp06lctrVAQWGBFRBSguLsbVq1excOFC7NixA48e\\\n",
              "PYKRkRHq1auHXr16YdSoUbC3tweAUo2w9BkLjIioHD158gTXrl1DcHAwoqOj8eTJE1hYWKBBgwb4\\\n",
              "7LPP4O7uDoVCAYWCVzWVFguMiKgciKKIS5cuYfXq1di0aRMKCgpgamqK0aNHY8KECahRo4asdwBq\\\n",
              "AxYYEVEZEkURT548wbZt2zB37lxcv34d5ubmGDZsGKZMmYI6derAwMBA6pg6gQVGRFSGkpKSEBAQ\\\n",
              "gNTUVNSsWRMeHh6YNGkSbGxsuLZVxriNnoioDKhUKgQGBmLXrl24e/cu2rRpg+DgYFnv8tN2XDUk\\\n",
              "InoLoihiz5496Nu3L9avXw9TU1PExMQgMTGR5VXOOIVIRPSGcnJyMH/+fISHhyMvLw8BAQEYPXo0\\\n",
              "mjVrxunCCsApRCKiUtJoNLh37x6GDx+O/fv3w87ODhMmTMCIESNKzh2k8scRGBFRKYiiiM2bNyMw\\\n",
              "MBC5ubkYNGgQ5syZg0aNGkkdTe/wowIRUSls3rwZ/v7+KCoqQnBwMMaNG8dRl0T4Uycieg1ZWVkY\\\n",
              "N24cDh06BAcHByxevBht2rThNV0SYoEREb1CZmYmBg8ejOPHj6NTp06Ijo6GlZWV1LH0HrfRExG9\\\n",
              "QHFxMdatW4cBAwbg3LlzmD9/PstLi3AERkT0HGq1GqGhoQgMDIRSqcTatWsxZMgQHrqrRfgvQUT0\\\n",
              "D6IoIjQ0FNOmTYOTkxO+++47eHl5sby0DLfRExE9QxRFrFq1CtOnT0e3bt0QEREBc3NzqWPRc/Dj\\\n",
              "BBHR/6jVaqxcuRLTp09H9+7dsXHjRpaXFuMaGBERgLS0NEybNg379u1Dz549ER4eDgsLC6lj0Uuw\\\n",
              "wIhI76WlpWHgwIFITU2Fi4sLR14ywSlEItJ7s2fPRmZmJr744guueckIR2BEpJdEUURGRgYOHDiA\\\n",
              "u3fvIjIyEs7OztxpKCMsMCLSSxkZGXBzc0NGRgYiIiLg4uLCW6DIDD9qEJHeuX79OlxdXXHjxg1s\\\n",
              "3LgRffv2ZXnJEEdgRKRX0tLS4Obmhps3b2Ljxo3o16+f1JHoDbHAiEhvPN1tmJmZicjISLi4uEgd\\\n",
              "id4CC4yI9MLTacPMzExs2rQJzs7OnDaUORYYEek8URQxYcIEXL58GUuWLEHv3r1ZXjqAmziISKc9\\\n",
              "Pdvw2LFj6NOnD0aMGMGt8jqCIzAi0llPb4nCsw11Ez+GEJFOKi4uxurVqzFt2jR0794d4eHhLC8d\\\n",
              "wwIjIp3ztLw+//xzdOvWDRs3buTBvDqIBUZEOkWtVv9t5BUZGcmRl47iDS2JSKecPXsWH330EczM\\\n",
              "zHDp0iVYWlpKHYnKCUdgRKQzsrKyEBgYCCMjIyxduhQ1a9aUOhKVI+5CJCKdkJWVBU9PT5w7dw5h\\\n",
              "YWEYOnQor/XScSwwIpK9zMxMDB48GOfPn2d56RGugRGRrD18+BDOzs5ITk7Ghg0b4Ovry/LSE1wD\\\n",
              "IyLZ0mg02LFjB86ePQsnJyf06dOH5aVHWGBEJEuiKGLz5s3w9/dH69atsW3bNm7a0DMsMCKSpU2b\\\n",
              "NsHf3x8tW7ZEbGws6tSpI3UkqmB6U2DHjh1DYWGh1DGIqAxkZ2cjJCQEGo0GU6ZMQe3ataWORBLQ\\\n",
              "mwLr2rUrZs2ahYKCAqmjENFbyMnJga+vL65du4bFixfjk08+kToSSURvCmzQoEFYtmwZ5s2bJ3UU\\\n",
              "InpDOTk5GDZsGA4dOoTFixcjICCAt0bRY3rzLz9x4kRYWloiKioKly9fBq8eIJIXjUaD1atXY+/e\\\n",
              "vejVqxfGjRvHHYd6Tm+uAxNFEYmJiRg0aBCqV6+O7du3o2nTpvwFIJIBURSxd+9eDBs2DLVr18b2\\\n",
              "7dvRqFEjqWORxPSmwIC/fgmio6MxZMgQODg44NSpU1AqlVLHIqJX2LNnD3x8fFCnTh3ExcWhcePG\\\n",
              "UkciLaA3U4gAIAgCXFxc4OnpicuXL2Px4sUoKiqSOhYRvYRKpcKSJUuQl5eHgIAAlheV0LuzEM3M\\\n",
              "zLBmzRqIooi5c+dCFEVMmzYNRkZGUkcjon9QqVQICAjAyZMnMXv2bHz66adSRyItoldTiM/6/fff\\\n",
              "0bJlSzx69Ahnz55FixYtpI5ERM8QRREjR45EeHg4ZsyYgfnz58PAwEDqWKRF9GoK8Vl169ZFeHg4\\\n",
              "KlWqBB8fH/z2229SRyKi/xFFEcnJyUhISEDDhg3h6+vL8qJ/0dsRGPDXttw9e/bA29sbjRo1wo4d\\\n",
              "O1C3bl2pYxHpvVOnTsHNzQ1KpRI7d+5EixYtuGOY/kVvR2AAoFAo4OzsjE6dOiElJQUxMTG8PoxI\\\n",
              "Yo8fP0ZYWBgyMzPh6ekJe3t7lhc9l14XGAAolUqEh4ejd+/eCAoKwpo1a6DRaKSORaSXCgoKEBgY\\\n",
              "iC1btmD8+PGYM2eO1JFIi+n1FOKzkpOT0atXL5iZmeHs2bOwsrKSOhKR3pk9ezYWLFiAQYMG4fvv\\\n",
              "v0elSpWkjkRaTO9HYE85OTlh5cqVyM3NhaenJ7KysqSORKRXUlJSsGnTJlhZWWHixIksL3oljsCe\\\n",
              "odFoEB4ejjFjxqB9+/bYuXMnqlevLnUsIp33yy+/wMXFBffv38eePXvg6OjIdS96JY7AnqFQKDBg\\\n",
              "wAC0bt0aJ0+exL59+7ipg6icqdVqREREID09Hf369UO7du1YXvRaWGD/YGFhgdjYWLRu3Rp+fn7Y\\\n",
              "unWr1JGIdJZarcb8+fOxZMkSDB06FKtWreL1XvTaOIX4AlFRURgxYgSaN2+OAwcOwNzcXOpIRDon\\\n",
              "LS0NHTp0gFqtxg8//IBWrVpJHYlkhCOwFxg8eDC+/vprXL58GaNGjUJubq7UkYh0SlpaGtzd3VFc\\\n",
              "XIyNGzeyvKjUWGAvoFAoMGnSJLRr1w47duzgRc5EZai4uBiLFi3CxYsXMXToUPTp00fqSCRDnEJ8\\\n",
              "CVEUcf36dbi6uiIrKwtbtmxBz549ucBM9BaKi4uxevVqTJs2DT169EBkZCSn6OmNsMBeQ1JSErp0\\\n",
              "6QIrKytcunSJW+uJ3sLKlSsRGBiIbt26YfPmzSwvemOcQnwN7dq1w4wZM3Dnzh189tlnePTokdSR\\\n",
              "iGQpKysLa9euhVKpxPjx41le9Fb07oaWb8LY2Bhz5sxBeno6IiIiUKtWLSxcuFDqWESy8vRw3t9/\\\n",
              "/x1r166Fs7Oz1JFI5jgCe03GxsYIDAzE+++/j8jISBw/flzqSESyodFosGnTppLp+CFDhkCh4NsP\\\n",
              "vR2ugZWCKIq4cOECunfvDhMTExw8eBC2trZSxyLSamq1Glu2bIG/vz9at26N6OhoHpZNZYIfgUpB\\\n",
              "EATY2dnBy8sLt2/fxrp16/DkyROpYxFptTt37mDy5MkoKirC8uXLWV5UZrgGVkqGhoYICQmBWq0u\\\n",
              "OfYmODiY0yFEz/HgwQOMGjUKKpUKISEhsLOzkzoS6RBOIb6hCxcuoFevXhBFEUeOHEGzZs14fRjR\\\n",
              "M0RRxI4dO+Dh4YEPPvgAhw4dQo0aNaSORTqEw4Y3ZG9vj6ioKAiCgIEDB+LKlStSRyLSKrt378ao\\\n",
              "UaNgZ2eHuLg4lheVORbYW+jatSs8PT1x7do1LFu2jOthRP+jUqnw1Vdf4dGjR5g6dSoaNmwodSTS\\\n",
              "QVwDe0vz5s3DnTt3EBERgXr16mHGjBkwMjKSOhaRZPLy8jB27FicP38es2fPxpAhQ6SORDqKa2Bl\\\n",
              "4M8//4SdnR1ycnJw8uRJtG3bVupIRJIQRREbNmzA6NGj4eTkhMTERN7fi8oNpxDLQI0aNfDdd9+h\\\n",
              "WrVqGDNmDNLT06WORFThRFFEcnIygoKCYGNjg7CwMO7OpXLFEVgZEUURK1aswOTJk/Hxxx9j//79\\\n",
              "3JVIeuX+/fto2bIlbty4gcOHD6Nr165SRyIdx49HZUQQBHh7e8PZ2RnHjx9HWFgYNBqN1LGIKkRB\\\n",
              "QQFmz56NW7duYdKkSXB0dJQ6EukBjsDK2L1799C9e3ekpaVh8+bNGDhwoNSRiMrdnDlzMH/+fHh4\\\n",
              "eCA8PByVKlWSOhLpAY7AyliNGjUwZcoUCIKAZcuWISsrS+pIROUqJSUFERERsLKywuTJk1leVGE4\\\n",
              "AisHGo0G4eHhGD16NNq3b4/du3fjnXfekToWUZn75Zdf4OzsjPv37yMhIQGOjo5c+6UKwxFYOVAo\\\n",
              "FOjfvz/atm2L06dPY+/evVwPI52jVqsRERGBjIyMkv/fWV5UkTgCK0fXr19Hq1atAAA//vgjmjRp\\\n",
              "InEiorKhVqsxb948LFiwAJ6enggLC0OVKlWkjkV6hiOwclS/fn3MnTsXRUVFmDZtGnJycqSORFQm\\\n",
              "0tPTsWbNGpiammLy5MksL5IEC6wcGRoaYuLEifj888+xa9cuTJgwARzwktylpaXB1dUVRUVF2Lhx\\\n",
              "IxwcHKSORHqKBVbODAwMMGLECLRo0QL79+/H/v37WWIkW0VFRQgODsalS5fg6ekJFxcXqSORHuMa\\\n",
              "WAUQRRG//vorevfujdzcXGzfvh2dOnWSOhZRqYWFhWHSpEno2LEjYmNjUb16dakjkR7jCKwCCIKA\\\n",
              "hg0bwtvbG/fv38eaNWuQn58vdSyiUrl16xbWr18PIyMj+Pv7s7xIcrydSgWaOXMmioqKsGjRIiiV\\\n",
              "SoSFhaFy5cpSxyJ6paysLAwePBjXrl3DunXreMIMaQWOwCqQsbExxo0bh7p16yI6OhpnzpyROhLR\\\n",
              "K4miiPj4eJw4cQJOTk7w8PDgLVJIK3ANTAIpKSnw8PBAQUEBtm7dio4dO0odiei5NBoNNm3ahICA\\\n",
              "ALRp0wZRUVGoVauW1LGIALDAJCGKIlavXo3JkyejU6dOSEhI4PlxpJXu3r0LBwcHZGdn48CBA/yw\\\n",
              "RVqFU4gSEAQBY8aMgb+/P5KSkjBz5kw8fvxY6lhEf5OdnY1hw4bh7t27CA4ORocOHaSORPQ3HIFJ\\\n",
              "qLCwEG3btsXPP/+MmJgYfPLJJzxLjrSCSqXC4MGDcfDgQSxduhQBAQFc9yKtwxGYhIyNjbFq1SrU\\\n",
              "qFEDM2fOxM8//8yLnElyoiji8OHD+OGHH2BrawsvLy+WF2kljsC0wPbt2+Hq6go7OzucPn2aW+tJ\\\n",
              "Ujt37sTw4cNRv359xMbGokGDBlJHInoujsC0QLdu3eDl5YVr164hJCQET548kToS6SmVSoWFCxci\\\n",
              "Pz8fkydPZnmRVuOFzFrAzMwMa9euBQDMmzcPGo0GM2fOhJGRkcTJSJ88fPgQY8eORUpKCoKCguDt\\\n",
              "7S11JKKX4hSiFrlz5w6aN2+OnJwcnDx5Em3btpU6EukJURQRHh6OkSNHwtHREcePH+e6F2k9TiFq\\\n",
              "kZo1a2LDhg2oVq0aRo8ejd9++03qSKQHRFHEiRMnMGvWLDRs2BDr1q2DQsG3BtJ+HIFpGY1Gg+XL\\\n",
              "l2PKlCno1asX9u3bx631VK4ePHgAe3t73LhxA4cOHUK3bt2kjkT0WvgxS8soFAr4+PjAxcUFiYmJ\\\n",
              "CA0N5dZ6KjcFBQWYNWsWbt26hUmTJsHJyUnqSESvjSMwLZWdnY2uXbvi+vXriIqKwoABA6SORDom\\\n",
              "Pz8fgYGB+PbbbxEQEIAFCxbwSDOSFRaYFouIiMC4cePg4OCArVu3wsrKSupIpEMOHz6MHj16oF69\\\n",
              "ekhJSeH9vUh2WGBaTBRFREZGwt/fH61atUJMTAxLjN6aKIo4d+4c3NzcUFRUhNjYWHz44YdcayXZ\\\n",
              "4RqYFhMEAd7e3vD29saJEycwd+5caDQaqWORzKnVaowfPx43btzA3LlzWV4kWywwLadQKBAUFARH\\\n",
              "R0dERkYiOjqamzrojanVasydOxc//vgjhg0bhsGDB7O8SLZYYDLw3nvvITY2Fvb29hg7diy2bNnC\\\n",
              "EqNSKyoqwn//+18sXLgQXl5eWLVqFapUqSJ1LKI3xjUwGdmxYweGDBmChg0b4ujRozA3N5c6EslI\\\n",
              "amoq2rdvD0NDQyQmJsLW1lbqSERvhSMwGRkwYAAWLlyItLQ0DB8+HLm5uVJHIpm4evUqPDw8YGBg\\\n",
              "gMjISDRr1kzqSERvjSMwmdFoNFi2bBkCAwPRv39/bNu2DcbGxlLHIi1269Yt9OzZE+np6YiPj0fv\\\n",
              "3r257kU6gSMwmVEoFPDw8MAHH3yAw4cP4/Dhw1wPoxdSq9WIjo7G1atX0bNnT3Tu3JnlRTqDBSZD\\\n",
              "1tbWiI+PR926deHt7Y39+/ezxOhfRFHEypUr8Z///Ad9+/bFxo0bebNU0imcQpSxixcvwtHREZUr\\\n",
              "V8aZM2dgY2MjdSTSEhqNBitXrsSMGTPw8ccfIzw8nCdtkM7hCEzGmjZtisDAQKhUKnz55Zd4+PCh\\\n",
              "1JFIS2RmZiI4OBhGRkaYMWMGy4t0Eu/ILGNGRkaYM2cOFAoFvv76awBAaGgoqlatKnEyktLNmzcx\\\n",
              "aNAgPHjwAOvWrYOjo6PUkYjKBQtM5gwNDREUFITCwkIsWrQIhoaG+Pbbb3lDQj118+ZNuLu748qV\\\n",
              "K1i3bh08PT25aYN0Ft/ldICBgQF8fX1hY2OD3bt34/Tp09zUoYc0Gg2++OILnD59GsOHD+cxUaTz\\\n",
              "uIlDh6SkpMDV1RXFxcU8YVzPPHvnAgcHB2zbto13LiCdxxGYDnFwcEBcXBwMDQ3h7u6O5ORkqSNR\\\n",
              "BRBFEREREQgICECbNm1YXqQ3OALTQadOnUKXLl1gYWGBkydPwtraWupIVI6OHj2Kfv36oWbNmkhO\\\n",
              "TkatWrWkjkRUITgC00EtW7bEp59+ij///BMhISEoKCiQOhKVk+zsbCxevBhqtRqBgYGwtLSUOhJR\\\n",
              "heEuRB1kYmKCkJAQKBQKhIaGAgAWLVoEExMTiZNRWcrOzsbQoUNx7NgxhISEwN/fn2uepFdYYDrK\\\n",
              "2NgYS5YsgSiKCAsLgyAIWLx4MYyMjKSORmUgOzsbQ4YMKSkvPz8/lhfpHRaYDjMyMkJwcDBEUcTq\\\n",
              "1ashCAIWLVrEEpO5f468/Pz8YGBgIHUsogrHTRx6ID8/H3369EFSUhKWL1+OgIAAqSPRG7p37x58\\\n",
              "fHxw5MgRLFmyBH5+fjA05OdQ0k8sMD1x9OhReHl5oWrVqoiNjYW9vb3UkaiUnl7r5evrC0dHRxw5\\\n",
              "coTrmqTXWGB6JDExEZ6enqhUqRLi4uLQsmVLqSPRaxJFETt37sTIkSNhY2ODuLg41KtXT+pYRJJi\\\n",
              "gekRURSRnJwMDw8PmJiYID4+niUmAxqNBnv27IGPjw8aNGhQUl7ctEH6jgWmZ0RRxIkTJ+Dh4YGq\\\n",
              "VasiPj4ednZ2fDPUUhqNBgkJCfDx8UG9evUQHx/P+74R/Q8vZNYzgiCgQ4cO2Lp1K/Ly8uDm5obU\\\n",
              "1FQe/quFRFEsGXlZW1sjLi6O5UX0DBaYHhIEAR07dkR0dDRUKhUGDhyIK1euSB2L/mHXrl3w9fUt\\\n",
              "GXk1aNBA6khEWoUFpqcEQUDnzp0RHR2Nhw8fYuDAgbhw4YLUseh/duzYgREjRsDGxgbbt29neRE9\\\n",
              "BwtMz3Xp0gX79u1Dq1at4OrqivPnz0sdSa/9c7dhfHw83n//faljEWklbuIgAEBycjLc3d25O1FC\\\n",
              "T3cb+vn5oX79+oiOjoa1tTU32BC9AEdgBABwcnJCTEwMCgsL4e7ujosXL3JjRwV6Wl6+vr746KOP\\\n",
              "cOTIEW6VJ3oFjsCohCiKSEpKwuDBg1GtWjVs374dtra2fBMtZ6IoYvfu3fD19UXdunW55kX0mjgC\\\n",
              "oxJPdydGRUVBpVLB1dUVV65c4UisHN27dw9r164t2W3I8iJ6fRyB0XM9PTtRqVRi0KBBmDdvHipV\\\n",
              "qiR1LJ1y7949+Pr6Yu/evXBwcEBMTAyv8yIqBY7A6Lm6dOmCrVu3ori4GEuXLsWMGTOQn58vdSyd\\\n",
              "kZ2dXXKqfJcuXXiRMtEbMPjyyy+/lDoEaSdra2t07twZALB+/XqoVCp07dqVt+94S0/v53X06FGE\\\n",
              "hIRg5cqVeOedd7jWSFRKfCeiFxIEAW3btoW9vT2MjY0RGhqKe/fuYcKECfjwww/5hltKarUa8fHx\\\n",
              "CAsLQ3JycsnNKBUKToQQvQmugdFrKSwsRGBgIEJDQ1G7dm3ExsZqfYmJogi1Wv3KxxkYGJT79yGK\\\n",
              "IiIiIuDv7w+1Wo2lS5fyZpREb4kFRq8tPz8f8+fPx+bNm6FWq7Fw4UJ88sknqFq1aoW8/pkzZ/DH\\\n",
              "H3+89uNzcnIQEhICjUbzwscIgoDdu3ejcePGZRHxuTIzM7F161YEBQWhcePGGDNmDD799FOWF9Fb\\\n",
              "YoFRqf3000/w8PBARkYGhg0bhlWrVqFatWrl/rpeXl6Ijo4u0+cUBAEXLlxA8+bNy/R5n7p16xY8\\\n",
              "PT1x/PhxdOnSBVFRUahVq1a5vBaRvuHkO5Va69atER8fjzZt2iAqKgrOzs5ISEiQ7fVid+7cKfPn\\\n",
              "LC4uxooVK+Ds7IwLFy7AxcWF5UVUxlhg9Ebs7e2RnJyMmTNn4syZM/Dx8UFCQgIePnxYbq/p5uYG\\\n",
              "AwODMn1OURTxzTfflOlzZmdnY8WKFQgMDER6ejrWrFmD3bt3s7yIyhgLjN6IIAgwNDREUFAQwsLC\\\n",
              "ULt2bbi6umLIkCH4888/X7ru9KZat25dLjv2ymrkWFRUhJ9//hldunTB9OnT0b17d2zZsgWenp7c\\\n",
              "aUhUDvhbRW/F0NAQo0aNQlxcHBo1aoR9+/bBzs4O0dHRKC4uljpehRBFEUVFRZg/fz6cnJyQmpoK\\\n",
              "Z2dnbNmyBf369WN5EZUT/mZRmWjcuDEOHz6MxYsX48GDB/Dz80Pfvn1x+/ZtrVkbs7Gxga2tLUxN\\\n",
              "TcvsOQsLCxETE4MPP/wQX3/9NQwMDBAfH4/IyEhUr169zF6HiP6N+3ipzFhaWmLixIno2LEjpkyZ\\\n",
              "ggMHDqBz587w8/ODu7s7rK2ty+y1qlSpgqZNm8LBwQHAX9N3SUlJyMjI+Nu1XwqFAtbW1ujYsSOs\\\n",
              "ra2hVCqRk5ODc+fO4dKlS7h///4bZ7h8+TJCQ0Oxdu1aaDQa+Pj4YPr06bC1tX3r74+IXo3b6Klc\\\n",
              "ZGZmIi4uDrNmzUJeXh6aNGkCX19fTJ06FUZGRm/0nOnp6WjSpAmMjY3h7u6O+vXr/+3rGo0Gp06d\\\n",
              "wuHDh0umL2vUqIHRo0fD2Nj4X8/3008/ISEhAb1790ZCQsJrZRBFEWlpaVi+fDni4uJw7949NG/e\\\n",
              "HDNmzICLi0uFXE5ARH/hFCKVi9q1a2P8+PGIj49H3759kZmZidmzZ8PLywunT59GYWHhGz2vIAho\\\n",
              "06YN6tWr96+vKRQKODk5oXbt2iWPbd++/QsLs0WLFrCwsHjt11apVNi5cyccHR0RGhqK4uJiTJo0\\\n",
              "CadPn8agQYNYXkQVjFOIVG4EQUDPnj3RuXNnHDt2DGFhYdi+fTv27NkDNzc3NG/eHGPHji3VQbYm\\\n",
              "JiZo167dSx/foUMH/P777zAzM0Pz5s1f+FhDQ0N06tTppc9VXFyMP/74A+vXr8epU6eQlJQEY2Nj\\\n",
              "jBs3Dv7+/mjatClP1CCSCKcQqcLk5eVh0aJF+O6773D79m0IggArKytMnjwZI0eOhKmp6UvLIDs7\\\n",
              "G1999RWqVav20p19T548gUqlgoGBwSvLsUmTJnB2doaZmVnJ3z09QzEjIwPr16/H+vXrkZubC4VC\\\n",
              "gQ8++ADR0dFo1KgRlErlm0rYILIAAAPCSURBVP0giKhMsMCoQomiiJs3byIsLAwXLlzA/v37odFo\\\n",
              "YG1tjWbNmmHq1Kno0aMHADy3eAoKCrBixYqXTkE2aNAA3t7eyMvLQ3h4OLKzs5/7OEEQ0KNHD7Rv\\\n",
              "374k2+PHj7Fr1y4sXLgQWVlZuH37NqpWrYpevXqhe/fucHNzw7vvvlsGPwkielssMJLM48ePcebM\\\n",
              "GSxYsABHjx5FYWEhKleuDFtbW/Tt2xedOnWCpaXl33b1aTQanD59GocOHXrhSfNeXl4lh/OePHkS\\\n",
              "Bw8efO5WfnNzc4wcORJXrlzBo0ePEBkZiXPnzuHixYvQaDSwsLBAnz59MHXq1JdORRKRNFhgJDmN\\\n",
              "RoPExERcunQJK1aswPXr10u+ZmVlBXt7e9SpUwcTJkyAIAgwNzfH0aNHcePGjX9dLN28eXP06dOn\\\n",
              "ZNehWq3GsWPHcOHCBahUKgB/rWvdvn0bV65cgZmZGY4fP468vDwAf91a5emuwgYNGqBNmzYV9FMg\\\n",
              "otJigZHWEEUROTk5SEhIwL59+3D8+HHk5+cjJycHwP9PKdra2sLBwQHXrl1Ds2bNUL16dSiVSrRv\\\n",
              "3x52dnYluw5zcnLwzTffQK1WIzc3t+RWLI8fP8Yvv/xSMiqztLSEUqmEl5cXWrdujYEDB0KpVHLE\\\n",
              "RaTlWGCklYqKiqBWq3H16lUcOHAAt2/fxvfffw9RFPHkyZOSNTCFQgFBECAIwr8O+n362GdVqVIF\\\n",
              "BgYGqFy5Mvz9/WFiYoKhQ4fCwsICSqWyzA8LJqLywwIjWSguLsaDBw8A/P+61rNOnDiBixcv/u3v\\\n",
              "TE1N4eXl9bcdiz4+Pqhfvz4EQcA777zDcwqJZIwFRjohOzu7pOCeMjQ0RN26dTkVSKSjWGBERCRL\\\n",
              "nD8hIiJZYoEREZEsscCIiEiWWGBERCRLLDAiIpIlFhgREckSC4yIiGSJBUZERLLEAiMiIlligRER\\\n",
              "kSyxwIiISJZYYEREJEssMCIikiUWGBERyRILjIiIZIkFRkREssQCIyIiWWKBERGRLLHAiIhIllhg\\\n",
              "REQkSywwIiKSJRYYERHJEguMiIhkiQVGRESyxAIjIiJZYoEREZEsscCIiEiWWGBERCRLLDAiIpIl\\\n",
              "FhgREckSC4yIiGSJBUZERLLEAiMiIlligRERkSyxwIiISJZYYEREJEssMCIikiUWGBERyRILjIiI\\\n",
              "ZIkFRkREssQCIyIiWWKBERGRLLHAiIhIllhgREQkSywwIiKSJRYYERHJEguMiIhkiQVGRESyxAIj\\\n",
              "IiJZYoEREZEsscCIiEiW/g/RvorzKHSFLwAAAABJRU5ErkJggg==\\\n",
              "\"\n",
              "\n",
              "\n",
              "    /* set a timeout to make sure all the above elements are created before\n",
              "       the object is initialized. */\n",
              "    setTimeout(function() {\n",
              "        anim03706849f0b649909816c84e5775155e = new Animation(frames, img_id, slider_id, 40.0,\n",
              "                                 loop_select_id);\n",
              "    }, 0);\n",
              "  })()\n",
              "</script>\n"
            ],
            "text/plain": [
              "<matplotlib.animation.FuncAnimation at 0x7f96c78cf668>"
            ]
          },
          "metadata": {
            "tags": []
          },
          "execution_count": 15
        }
      ]
    },
    {
      "cell_type": "code",
      "metadata": {
        "id": "Eackeph-8GUi",
        "colab_type": "code",
        "colab": {
          "base_uri": "https://localhost:8080/",
          "height": 314
        },
        "outputId": "09c2da7f-ae44-4f99-f890-56d3418b3cab"
      },
      "source": [
        "plt.figure(figsize=(8, 4))\n",
        "plt.plot(random_rawards)\n",
        "plt.xlabel(\"Episode\", fontsize=14)\n",
        "plt.ylabel(\"Sum of rewards\", fontsize=14)\n",
        "save_fig(\"dqn_rewards_plot\")\n",
        "plt.show()"
      ],
      "execution_count": null,
      "outputs": [
        {
          "output_type": "stream",
          "text": [
            "Saving figure dqn_rewards_plot\n"
          ],
          "name": "stdout"
        },
        {
          "output_type": "display_data",
          "data": {
            "image/png": "[encoded data removed]",
            "text/plain": [
              "<Figure size 576x288 with 1 Axes>"
            ]
          },
          "metadata": {
            "tags": [],
            "needs_background": "light"
          }
        }
      ]
    }
  ]
}